{
 "cells": [
  {
   "cell_type": "code",
   "execution_count": 1,
   "metadata": {},
   "outputs": [
    {
     "name": "stderr",
     "output_type": "stream",
     "text": [
      "Using TensorFlow backend.\n"
     ]
    }
   ],
   "source": [
    "from model import *"
   ]
  },
  {
   "cell_type": "code",
   "execution_count": null,
   "metadata": {},
   "outputs": [],
   "source": [
    "train()"
   ]
  },
  {
   "cell_type": "code",
   "execution_count": 2,
   "metadata": {},
   "outputs": [
    {
     "name": "stderr",
     "output_type": "stream",
     "text": [
      "WARNING:tensorflow:<tensorflow.python.ops.rnn_cell.BasicLSTMCell object at 0x7f015c88ccd0>: Using a concatenated state is slower and will soon be deprecated.  Use state_is_tuple=True.\n",
      "WARNING:tensorflow:<tensorflow.python.ops.rnn_cell.BasicLSTMCell object at 0x7f01ac0a6690>: Using a concatenated state is slower and will soon be deprecated.  Use state_is_tuple=True.\n"
     ]
    },
    {
     "name": "stdout",
     "output_type": "stream",
     "text": [
      "/mnt/data/video_sequence_damba/data/youtube_feats/IpHJffM3G1c_412_418.avi.npy\n",
      "a man is preparing something .\n",
      "> \u001b[0;32m/home/supunK/GIT/video_to_sequence/model.py\u001b[0m(339)\u001b[0;36mtest\u001b[0;34m()\u001b[0m\n",
      "\u001b[0;32m    338 \u001b[0;31m\u001b[0;34m\u001b[0m\u001b[0m\n",
      "\u001b[0m\u001b[0;32m--> 339 \u001b[0;31m    \u001b[0;32mfor\u001b[0m \u001b[0mvideo_feat_path\u001b[0m \u001b[0;32min\u001b[0m \u001b[0mtest_videos\u001b[0m\u001b[0;34m:\u001b[0m\u001b[0;34m\u001b[0m\u001b[0m\n",
      "\u001b[0m\u001b[0;32m    340 \u001b[0;31m        \u001b[0;32mprint\u001b[0m \u001b[0mvideo_feat_path\u001b[0m\u001b[0;34m\u001b[0m\u001b[0m\n",
      "\u001b[0m\n"
     ]
    },
    {
     "name": "stdin",
     "output_type": "stream",
     "text": [
      "ipdb>  c\n"
     ]
    },
    {
     "name": "stdout",
     "output_type": "stream",
     "text": [
      "/mnt/data/video_sequence_damba/data/youtube_feats/nZSFn51l3hc_318_326.avi.npy\n",
      "a person is cutting the carrot .\n",
      "> \u001b[0;32m/home/supunK/GIT/video_to_sequence/model.py\u001b[0m(339)\u001b[0;36mtest\u001b[0;34m()\u001b[0m\n",
      "\u001b[0;32m    338 \u001b[0;31m\u001b[0;34m\u001b[0m\u001b[0m\n",
      "\u001b[0m\u001b[0;32m--> 339 \u001b[0;31m    \u001b[0;32mfor\u001b[0m \u001b[0mvideo_feat_path\u001b[0m \u001b[0;32min\u001b[0m \u001b[0mtest_videos\u001b[0m\u001b[0;34m:\u001b[0m\u001b[0;34m\u001b[0m\u001b[0m\n",
      "\u001b[0m\u001b[0;32m    340 \u001b[0;31m        \u001b[0;32mprint\u001b[0m \u001b[0mvideo_feat_path\u001b[0m\u001b[0;34m\u001b[0m\u001b[0m\n",
      "\u001b[0m\n"
     ]
    },
    {
     "name": "stdin",
     "output_type": "stream",
     "text": [
      "ipdb>  c\n"
     ]
    },
    {
     "name": "stdout",
     "output_type": "stream",
     "text": [
      "/mnt/data/video_sequence_damba/data/youtube_feats/g8LUhxR-6Wg_0_8.avi.npy\n",
      "the men are fighting .\n",
      "> \u001b[0;32m/home/supunK/GIT/video_to_sequence/model.py\u001b[0m(339)\u001b[0;36mtest\u001b[0;34m()\u001b[0m\n",
      "\u001b[0;32m    338 \u001b[0;31m\u001b[0;34m\u001b[0m\u001b[0m\n",
      "\u001b[0m\u001b[0;32m--> 339 \u001b[0;31m    \u001b[0;32mfor\u001b[0m \u001b[0mvideo_feat_path\u001b[0m \u001b[0;32min\u001b[0m \u001b[0mtest_videos\u001b[0m\u001b[0;34m:\u001b[0m\u001b[0;34m\u001b[0m\u001b[0m\n",
      "\u001b[0m\u001b[0;32m    340 \u001b[0;31m        \u001b[0;32mprint\u001b[0m \u001b[0mvideo_feat_path\u001b[0m\u001b[0;34m\u001b[0m\u001b[0m\n",
      "\u001b[0m\n"
     ]
    },
    {
     "name": "stdin",
     "output_type": "stream",
     "text": [
      "ipdb>  c\n"
     ]
    },
    {
     "name": "stdout",
     "output_type": "stream",
     "text": [
      "/mnt/data/video_sequence_damba/data/youtube_feats/o4pL7FObqds_243_263.avi.npy\n",
      "a man is running .\n",
      "> \u001b[0;32m/home/supunK/GIT/video_to_sequence/model.py\u001b[0m(339)\u001b[0;36mtest\u001b[0;34m()\u001b[0m\n",
      "\u001b[0;32m    338 \u001b[0;31m\u001b[0;34m\u001b[0m\u001b[0m\n",
      "\u001b[0m\u001b[0;32m--> 339 \u001b[0;31m    \u001b[0;32mfor\u001b[0m \u001b[0mvideo_feat_path\u001b[0m \u001b[0;32min\u001b[0m \u001b[0mtest_videos\u001b[0m\u001b[0;34m:\u001b[0m\u001b[0;34m\u001b[0m\u001b[0m\n",
      "\u001b[0m\u001b[0;32m    340 \u001b[0;31m        \u001b[0;32mprint\u001b[0m \u001b[0mvideo_feat_path\u001b[0m\u001b[0;34m\u001b[0m\u001b[0m\n",
      "\u001b[0m\n"
     ]
    },
    {
     "name": "stdin",
     "output_type": "stream",
     "text": [
      "ipdb>  c\n"
     ]
    },
    {
     "name": "stdout",
     "output_type": "stream",
     "text": [
      "/mnt/data/video_sequence_damba/data/youtube_feats/KPPCwmU5OHQ_56_62.avi.npy\n",
      "a person is cooking .\n",
      "> \u001b[0;32m/home/supunK/GIT/video_to_sequence/model.py\u001b[0m(339)\u001b[0;36mtest\u001b[0;34m()\u001b[0m\n",
      "\u001b[0;32m    338 \u001b[0;31m\u001b[0;34m\u001b[0m\u001b[0m\n",
      "\u001b[0m\u001b[0;32m--> 339 \u001b[0;31m    \u001b[0;32mfor\u001b[0m \u001b[0mvideo_feat_path\u001b[0m \u001b[0;32min\u001b[0m \u001b[0mtest_videos\u001b[0m\u001b[0;34m:\u001b[0m\u001b[0;34m\u001b[0m\u001b[0m\n",
      "\u001b[0m\u001b[0;32m    340 \u001b[0;31m        \u001b[0;32mprint\u001b[0m \u001b[0mvideo_feat_path\u001b[0m\u001b[0;34m\u001b[0m\u001b[0m\n",
      "\u001b[0m\n"
     ]
    },
    {
     "name": "stdin",
     "output_type": "stream",
     "text": [
      "ipdb>  c\n"
     ]
    },
    {
     "name": "stdout",
     "output_type": "stream",
     "text": [
      "/mnt/data/video_sequence_damba/data/youtube_feats/_WRC7HXBJpU_451_464.avi.npy\n",
      "a person is cooking .\n",
      "> \u001b[0;32m/home/supunK/GIT/video_to_sequence/model.py\u001b[0m(339)\u001b[0;36mtest\u001b[0;34m()\u001b[0m\n",
      "\u001b[0;32m    338 \u001b[0;31m\u001b[0;34m\u001b[0m\u001b[0m\n",
      "\u001b[0m\u001b[0;32m--> 339 \u001b[0;31m    \u001b[0;32mfor\u001b[0m \u001b[0mvideo_feat_path\u001b[0m \u001b[0;32min\u001b[0m \u001b[0mtest_videos\u001b[0m\u001b[0;34m:\u001b[0m\u001b[0;34m\u001b[0m\u001b[0m\n",
      "\u001b[0m\u001b[0;32m    340 \u001b[0;31m        \u001b[0;32mprint\u001b[0m \u001b[0mvideo_feat_path\u001b[0m\u001b[0;34m\u001b[0m\u001b[0m\n",
      "\u001b[0m\n"
     ]
    },
    {
     "name": "stdin",
     "output_type": "stream",
     "text": [
      "ipdb>  c\n"
     ]
    },
    {
     "name": "stdout",
     "output_type": "stream",
     "text": [
      "/mnt/data/video_sequence_damba/data/youtube_feats/3eqFFRSXwGE_84_96.avi.npy\n",
      "a man is a at a table and then pulls a tray in a full of water .\n",
      "> \u001b[0;32m/home/supunK/GIT/video_to_sequence/model.py\u001b[0m(339)\u001b[0;36mtest\u001b[0;34m()\u001b[0m\n",
      "\u001b[0;32m    338 \u001b[0;31m\u001b[0;34m\u001b[0m\u001b[0m\n",
      "\u001b[0m\u001b[0;32m--> 339 \u001b[0;31m    \u001b[0;32mfor\u001b[0m \u001b[0mvideo_feat_path\u001b[0m \u001b[0;32min\u001b[0m \u001b[0mtest_videos\u001b[0m\u001b[0;34m:\u001b[0m\u001b[0;34m\u001b[0m\u001b[0m\n",
      "\u001b[0m\u001b[0;32m    340 \u001b[0;31m        \u001b[0;32mprint\u001b[0m \u001b[0mvideo_feat_path\u001b[0m\u001b[0;34m\u001b[0m\u001b[0m\n",
      "\u001b[0m\n"
     ]
    },
    {
     "name": "stdin",
     "output_type": "stream",
     "text": [
      "ipdb>  c\n"
     ]
    },
    {
     "name": "stdout",
     "output_type": "stream",
     "text": [
      "/mnt/data/video_sequence_damba/data/youtube_feats/WTf5EgVY5uU_16_24.avi.npy\n",
      "a woman is cutting some meat .\n",
      "> \u001b[0;32m/home/supunK/GIT/video_to_sequence/model.py\u001b[0m(339)\u001b[0;36mtest\u001b[0;34m()\u001b[0m\n",
      "\u001b[0;32m    338 \u001b[0;31m\u001b[0;34m\u001b[0m\u001b[0m\n",
      "\u001b[0m\u001b[0;32m--> 339 \u001b[0;31m    \u001b[0;32mfor\u001b[0m \u001b[0mvideo_feat_path\u001b[0m \u001b[0;32min\u001b[0m \u001b[0mtest_videos\u001b[0m\u001b[0;34m:\u001b[0m\u001b[0;34m\u001b[0m\u001b[0m\n",
      "\u001b[0m\u001b[0;32m    340 \u001b[0;31m        \u001b[0;32mprint\u001b[0m \u001b[0mvideo_feat_path\u001b[0m\u001b[0;34m\u001b[0m\u001b[0m\n",
      "\u001b[0m\n"
     ]
    },
    {
     "name": "stdin",
     "output_type": "stream",
     "text": [
      "ipdb>  c\n"
     ]
    },
    {
     "name": "stdout",
     "output_type": "stream",
     "text": [
      "/mnt/data/video_sequence_damba/data/youtube_feats/9Q0JfdP36kI_23_28.avi.npy\n",
      "a woman is cutting an onion into pieces .\n",
      "> \u001b[0;32m/home/supunK/GIT/video_to_sequence/model.py\u001b[0m(339)\u001b[0;36mtest\u001b[0;34m()\u001b[0m\n",
      "\u001b[0;32m    338 \u001b[0;31m\u001b[0;34m\u001b[0m\u001b[0m\n",
      "\u001b[0m\u001b[0;32m--> 339 \u001b[0;31m    \u001b[0;32mfor\u001b[0m \u001b[0mvideo_feat_path\u001b[0m \u001b[0;32min\u001b[0m \u001b[0mtest_videos\u001b[0m\u001b[0;34m:\u001b[0m\u001b[0;34m\u001b[0m\u001b[0m\n",
      "\u001b[0m\u001b[0;32m    340 \u001b[0;31m        \u001b[0;32mprint\u001b[0m \u001b[0mvideo_feat_path\u001b[0m\u001b[0;34m\u001b[0m\u001b[0m\n",
      "\u001b[0m\n"
     ]
    },
    {
     "name": "stdin",
     "output_type": "stream",
     "text": [
      "ipdb>  c\n"
     ]
    },
    {
     "name": "stdout",
     "output_type": "stream",
     "text": [
      "/mnt/data/video_sequence_damba/data/youtube_feats/-8y1Q0rA3n8_95_102.avi.npy\n",
      "a man is a and a man into a front of a .\n",
      "> \u001b[0;32m/home/supunK/GIT/video_to_sequence/model.py\u001b[0m(339)\u001b[0;36mtest\u001b[0;34m()\u001b[0m\n",
      "\u001b[0;32m    338 \u001b[0;31m\u001b[0;34m\u001b[0m\u001b[0m\n",
      "\u001b[0m\u001b[0;32m--> 339 \u001b[0;31m    \u001b[0;32mfor\u001b[0m \u001b[0mvideo_feat_path\u001b[0m \u001b[0;32min\u001b[0m \u001b[0mtest_videos\u001b[0m\u001b[0;34m:\u001b[0m\u001b[0;34m\u001b[0m\u001b[0m\n",
      "\u001b[0m\u001b[0;32m    340 \u001b[0;31m        \u001b[0;32mprint\u001b[0m \u001b[0mvideo_feat_path\u001b[0m\u001b[0;34m\u001b[0m\u001b[0m\n",
      "\u001b[0m\n"
     ]
    },
    {
     "name": "stdin",
     "output_type": "stream",
     "text": [
      "ipdb>  c\n"
     ]
    },
    {
     "name": "stdout",
     "output_type": "stream",
     "text": [
      "/mnt/data/video_sequence_damba/data/youtube_feats/AX38yo7Wuws_81_91.avi.npy\n",
      "a man is playing a card .\n",
      "> \u001b[0;32m/home/supunK/GIT/video_to_sequence/model.py\u001b[0m(339)\u001b[0;36mtest\u001b[0;34m()\u001b[0m\n",
      "\u001b[0;32m    338 \u001b[0;31m\u001b[0;34m\u001b[0m\u001b[0m\n",
      "\u001b[0m\u001b[0;32m--> 339 \u001b[0;31m    \u001b[0;32mfor\u001b[0m \u001b[0mvideo_feat_path\u001b[0m \u001b[0;32min\u001b[0m \u001b[0mtest_videos\u001b[0m\u001b[0;34m:\u001b[0m\u001b[0;34m\u001b[0m\u001b[0m\n",
      "\u001b[0m\u001b[0;32m    340 \u001b[0;31m        \u001b[0;32mprint\u001b[0m \u001b[0mvideo_feat_path\u001b[0m\u001b[0;34m\u001b[0m\u001b[0m\n",
      "\u001b[0m\n"
     ]
    },
    {
     "name": "stdin",
     "output_type": "stream",
     "text": [
      "ipdb>  c\n"
     ]
    },
    {
     "name": "stdout",
     "output_type": "stream",
     "text": [
      "/mnt/data/video_sequence_damba/data/youtube_feats/v7iIZXtpIb8_5_15.avi.npy\n",
      "a man is a pizza .\n",
      "> \u001b[0;32m/home/supunK/GIT/video_to_sequence/model.py\u001b[0m(339)\u001b[0;36mtest\u001b[0;34m()\u001b[0m\n",
      "\u001b[0;32m    338 \u001b[0;31m\u001b[0;34m\u001b[0m\u001b[0m\n",
      "\u001b[0m\u001b[0;32m--> 339 \u001b[0;31m    \u001b[0;32mfor\u001b[0m \u001b[0mvideo_feat_path\u001b[0m \u001b[0;32min\u001b[0m \u001b[0mtest_videos\u001b[0m\u001b[0;34m:\u001b[0m\u001b[0;34m\u001b[0m\u001b[0m\n",
      "\u001b[0m\u001b[0;32m    340 \u001b[0;31m        \u001b[0;32mprint\u001b[0m \u001b[0mvideo_feat_path\u001b[0m\u001b[0;34m\u001b[0m\u001b[0m\n",
      "\u001b[0m\n"
     ]
    },
    {
     "name": "stdin",
     "output_type": "stream",
     "text": [
      "ipdb>  c\n"
     ]
    },
    {
     "name": "stdout",
     "output_type": "stream",
     "text": [
      "/mnt/data/video_sequence_damba/data/youtube_feats/mmSQTI6gMNQ_120_128.avi.npy\n",
      "a man is practicing to a woman .\n",
      "> \u001b[0;32m/home/supunK/GIT/video_to_sequence/model.py\u001b[0m(339)\u001b[0;36mtest\u001b[0;34m()\u001b[0m\n",
      "\u001b[0;32m    338 \u001b[0;31m\u001b[0;34m\u001b[0m\u001b[0m\n",
      "\u001b[0m\u001b[0;32m--> 339 \u001b[0;31m    \u001b[0;32mfor\u001b[0m \u001b[0mvideo_feat_path\u001b[0m \u001b[0;32min\u001b[0m \u001b[0mtest_videos\u001b[0m\u001b[0;34m:\u001b[0m\u001b[0;34m\u001b[0m\u001b[0m\n",
      "\u001b[0m\u001b[0;32m    340 \u001b[0;31m        \u001b[0;32mprint\u001b[0m \u001b[0mvideo_feat_path\u001b[0m\u001b[0;34m\u001b[0m\u001b[0m\n",
      "\u001b[0m\n"
     ]
    },
    {
     "name": "stdin",
     "output_type": "stream",
     "text": [
      "ipdb>  c\n"
     ]
    },
    {
     "name": "stdout",
     "output_type": "stream",
     "text": [
      "/mnt/data/video_sequence_damba/data/youtube_feats/ETUJipdnfOM_0_5.avi.npy\n",
      "a man is playing a guitar .\n",
      "> \u001b[0;32m/home/supunK/GIT/video_to_sequence/model.py\u001b[0m(339)\u001b[0;36mtest\u001b[0;34m()\u001b[0m\n",
      "\u001b[0;32m    338 \u001b[0;31m\u001b[0;34m\u001b[0m\u001b[0m\n",
      "\u001b[0m\u001b[0;32m--> 339 \u001b[0;31m    \u001b[0;32mfor\u001b[0m \u001b[0mvideo_feat_path\u001b[0m \u001b[0;32min\u001b[0m \u001b[0mtest_videos\u001b[0m\u001b[0;34m:\u001b[0m\u001b[0;34m\u001b[0m\u001b[0m\n",
      "\u001b[0m\u001b[0;32m    340 \u001b[0;31m        \u001b[0;32mprint\u001b[0m \u001b[0mvideo_feat_path\u001b[0m\u001b[0;34m\u001b[0m\u001b[0m\n",
      "\u001b[0m\n"
     ]
    },
    {
     "name": "stdin",
     "output_type": "stream",
     "text": [
      "ipdb>  c\n"
     ]
    },
    {
     "name": "stdout",
     "output_type": "stream",
     "text": [
      "/mnt/data/video_sequence_damba/data/youtube_feats/YmXCfQm0_CA_109_120.avi.npy\n",
      "a man is shooting a gun .\n",
      "> \u001b[0;32m/home/supunK/GIT/video_to_sequence/model.py\u001b[0m(339)\u001b[0;36mtest\u001b[0;34m()\u001b[0m\n",
      "\u001b[0;32m    338 \u001b[0;31m\u001b[0;34m\u001b[0m\u001b[0m\n",
      "\u001b[0m\u001b[0;32m--> 339 \u001b[0;31m    \u001b[0;32mfor\u001b[0m \u001b[0mvideo_feat_path\u001b[0m \u001b[0;32min\u001b[0m \u001b[0mtest_videos\u001b[0m\u001b[0;34m:\u001b[0m\u001b[0;34m\u001b[0m\u001b[0m\n",
      "\u001b[0m\u001b[0;32m    340 \u001b[0;31m        \u001b[0;32mprint\u001b[0m \u001b[0mvideo_feat_path\u001b[0m\u001b[0;34m\u001b[0m\u001b[0m\n",
      "\u001b[0m\n"
     ]
    },
    {
     "name": "stdin",
     "output_type": "stream",
     "text": [
      "ipdb>  c\n"
     ]
    },
    {
     "name": "stdout",
     "output_type": "stream",
     "text": [
      "/mnt/data/video_sequence_damba/data/youtube_feats/WTf5EgVY5uU_54_58.avi.npy\n",
      "a woman is pouring out into the .\n",
      "> \u001b[0;32m/home/supunK/GIT/video_to_sequence/model.py\u001b[0m(339)\u001b[0;36mtest\u001b[0;34m()\u001b[0m\n",
      "\u001b[0;32m    338 \u001b[0;31m\u001b[0;34m\u001b[0m\u001b[0m\n",
      "\u001b[0m\u001b[0;32m--> 339 \u001b[0;31m    \u001b[0;32mfor\u001b[0m \u001b[0mvideo_feat_path\u001b[0m \u001b[0;32min\u001b[0m \u001b[0mtest_videos\u001b[0m\u001b[0;34m:\u001b[0m\u001b[0;34m\u001b[0m\u001b[0m\n",
      "\u001b[0m\u001b[0;32m    340 \u001b[0;31m        \u001b[0;32mprint\u001b[0m \u001b[0mvideo_feat_path\u001b[0m\u001b[0;34m\u001b[0m\u001b[0m\n",
      "\u001b[0m\n"
     ]
    },
    {
     "name": "stdin",
     "output_type": "stream",
     "text": [
      "ipdb>  c\n"
     ]
    },
    {
     "name": "stdout",
     "output_type": "stream",
     "text": [
      "/mnt/data/video_sequence_damba/data/youtube_feats/8NFoN0K3bPg_20_28.avi.npy\n",
      "a man is doing a .\n",
      "> \u001b[0;32m/home/supunK/GIT/video_to_sequence/model.py\u001b[0m(339)\u001b[0;36mtest\u001b[0;34m()\u001b[0m\n",
      "\u001b[0;32m    338 \u001b[0;31m\u001b[0;34m\u001b[0m\u001b[0m\n",
      "\u001b[0m\u001b[0;32m--> 339 \u001b[0;31m    \u001b[0;32mfor\u001b[0m \u001b[0mvideo_feat_path\u001b[0m \u001b[0;32min\u001b[0m \u001b[0mtest_videos\u001b[0m\u001b[0;34m:\u001b[0m\u001b[0;34m\u001b[0m\u001b[0m\n",
      "\u001b[0m\u001b[0;32m    340 \u001b[0;31m        \u001b[0;32mprint\u001b[0m \u001b[0mvideo_feat_path\u001b[0m\u001b[0;34m\u001b[0m\u001b[0m\n",
      "\u001b[0m\n"
     ]
    },
    {
     "name": "stdin",
     "output_type": "stream",
     "text": [
      "ipdb>  c\n"
     ]
    },
    {
     "name": "stdout",
     "output_type": "stream",
     "text": [
      "/mnt/data/video_sequence_damba/data/youtube_feats/Sg5rTYrkpnU_35_48.avi.npy\n",
      "a man is a car .\n",
      "> \u001b[0;32m/home/supunK/GIT/video_to_sequence/model.py\u001b[0m(339)\u001b[0;36mtest\u001b[0;34m()\u001b[0m\n",
      "\u001b[0;32m    338 \u001b[0;31m\u001b[0;34m\u001b[0m\u001b[0m\n",
      "\u001b[0m\u001b[0;32m--> 339 \u001b[0;31m    \u001b[0;32mfor\u001b[0m \u001b[0mvideo_feat_path\u001b[0m \u001b[0;32min\u001b[0m \u001b[0mtest_videos\u001b[0m\u001b[0;34m:\u001b[0m\u001b[0;34m\u001b[0m\u001b[0m\n",
      "\u001b[0m\u001b[0;32m    340 \u001b[0;31m        \u001b[0;32mprint\u001b[0m \u001b[0mvideo_feat_path\u001b[0m\u001b[0;34m\u001b[0m\u001b[0m\n",
      "\u001b[0m\n"
     ]
    },
    {
     "name": "stdin",
     "output_type": "stream",
     "text": [
      "ipdb>  c\n"
     ]
    },
    {
     "name": "stdout",
     "output_type": "stream",
     "text": [
      "/mnt/data/video_sequence_damba/data/youtube_feats/-AwoiGR6c8M_10_14.avi.npy\n",
      "a girl is dancing .\n",
      "> \u001b[0;32m/home/supunK/GIT/video_to_sequence/model.py\u001b[0m(339)\u001b[0;36mtest\u001b[0;34m()\u001b[0m\n",
      "\u001b[0;32m    338 \u001b[0;31m\u001b[0;34m\u001b[0m\u001b[0m\n",
      "\u001b[0m\u001b[0;32m--> 339 \u001b[0;31m    \u001b[0;32mfor\u001b[0m \u001b[0mvideo_feat_path\u001b[0m \u001b[0;32min\u001b[0m \u001b[0mtest_videos\u001b[0m\u001b[0;34m:\u001b[0m\u001b[0;34m\u001b[0m\u001b[0m\n",
      "\u001b[0m\u001b[0;32m    340 \u001b[0;31m        \u001b[0;32mprint\u001b[0m \u001b[0mvideo_feat_path\u001b[0m\u001b[0;34m\u001b[0m\u001b[0m\n",
      "\u001b[0m\n"
     ]
    },
    {
     "name": "stdin",
     "output_type": "stream",
     "text": [
      "ipdb>  c\n"
     ]
    },
    {
     "name": "stdout",
     "output_type": "stream",
     "text": [
      "/mnt/data/video_sequence_damba/data/youtube_feats/f-24IxG9ijw_25_40.avi.npy\n",
      "two men are riding a horse .\n",
      "> \u001b[0;32m/home/supunK/GIT/video_to_sequence/model.py\u001b[0m(339)\u001b[0;36mtest\u001b[0;34m()\u001b[0m\n",
      "\u001b[0;32m    338 \u001b[0;31m\u001b[0;34m\u001b[0m\u001b[0m\n",
      "\u001b[0m\u001b[0;32m--> 339 \u001b[0;31m    \u001b[0;32mfor\u001b[0m \u001b[0mvideo_feat_path\u001b[0m \u001b[0;32min\u001b[0m \u001b[0mtest_videos\u001b[0m\u001b[0;34m:\u001b[0m\u001b[0;34m\u001b[0m\u001b[0m\n",
      "\u001b[0m\u001b[0;32m    340 \u001b[0;31m        \u001b[0;32mprint\u001b[0m \u001b[0mvideo_feat_path\u001b[0m\u001b[0;34m\u001b[0m\u001b[0m\n",
      "\u001b[0m\n"
     ]
    },
    {
     "name": "stdin",
     "output_type": "stream",
     "text": [
      "ipdb>  c\n"
     ]
    },
    {
     "name": "stdout",
     "output_type": "stream",
     "text": [
      "/mnt/data/video_sequence_damba/data/youtube_feats/NV6pq1W-I4g_7_16.avi.npy\n",
      "a woman is dancing in a room .\n",
      "> \u001b[0;32m/home/supunK/GIT/video_to_sequence/model.py\u001b[0m(339)\u001b[0;36mtest\u001b[0;34m()\u001b[0m\n",
      "\u001b[0;32m    338 \u001b[0;31m\u001b[0;34m\u001b[0m\u001b[0m\n",
      "\u001b[0m\u001b[0;32m--> 339 \u001b[0;31m    \u001b[0;32mfor\u001b[0m \u001b[0mvideo_feat_path\u001b[0m \u001b[0;32min\u001b[0m \u001b[0mtest_videos\u001b[0m\u001b[0;34m:\u001b[0m\u001b[0;34m\u001b[0m\u001b[0m\n",
      "\u001b[0m\u001b[0;32m    340 \u001b[0;31m        \u001b[0;32mprint\u001b[0m \u001b[0mvideo_feat_path\u001b[0m\u001b[0;34m\u001b[0m\u001b[0m\n",
      "\u001b[0m\n"
     ]
    },
    {
     "name": "stdin",
     "output_type": "stream",
     "text": [
      "ipdb>  c\n"
     ]
    },
    {
     "name": "stdout",
     "output_type": "stream",
     "text": [
      "/mnt/data/video_sequence_damba/data/youtube_feats/KUc1cWKXjDc_20_30.avi.npy\n",
      "a is playing .\n",
      "> \u001b[0;32m/home/supunK/GIT/video_to_sequence/model.py\u001b[0m(339)\u001b[0;36mtest\u001b[0;34m()\u001b[0m\n",
      "\u001b[0;32m    338 \u001b[0;31m\u001b[0;34m\u001b[0m\u001b[0m\n",
      "\u001b[0m\u001b[0;32m--> 339 \u001b[0;31m    \u001b[0;32mfor\u001b[0m \u001b[0mvideo_feat_path\u001b[0m \u001b[0;32min\u001b[0m \u001b[0mtest_videos\u001b[0m\u001b[0;34m:\u001b[0m\u001b[0;34m\u001b[0m\u001b[0m\n",
      "\u001b[0m\u001b[0;32m    340 \u001b[0;31m        \u001b[0;32mprint\u001b[0m \u001b[0mvideo_feat_path\u001b[0m\u001b[0;34m\u001b[0m\u001b[0m\n",
      "\u001b[0m\n"
     ]
    },
    {
     "name": "stdin",
     "output_type": "stream",
     "text": [
      "ipdb>  c\n"
     ]
    },
    {
     "name": "stdout",
     "output_type": "stream",
     "text": [
      "/mnt/data/video_sequence_damba/data/youtube_feats/6Lzq1HN33lE_5_15.avi.npy\n",
      "a man is playing a flute .\n",
      "> \u001b[0;32m/home/supunK/GIT/video_to_sequence/model.py\u001b[0m(339)\u001b[0;36mtest\u001b[0;34m()\u001b[0m\n",
      "\u001b[0;32m    338 \u001b[0;31m\u001b[0;34m\u001b[0m\u001b[0m\n",
      "\u001b[0m\u001b[0;32m--> 339 \u001b[0;31m    \u001b[0;32mfor\u001b[0m \u001b[0mvideo_feat_path\u001b[0m \u001b[0;32min\u001b[0m \u001b[0mtest_videos\u001b[0m\u001b[0;34m:\u001b[0m\u001b[0;34m\u001b[0m\u001b[0m\n",
      "\u001b[0m\u001b[0;32m    340 \u001b[0;31m        \u001b[0;32mprint\u001b[0m \u001b[0mvideo_feat_path\u001b[0m\u001b[0;34m\u001b[0m\u001b[0m\n",
      "\u001b[0m\n"
     ]
    },
    {
     "name": "stdin",
     "output_type": "stream",
     "text": [
      "ipdb>  c\n"
     ]
    },
    {
     "name": "stdout",
     "output_type": "stream",
     "text": [
      "/mnt/data/video_sequence_damba/data/youtube_feats/1sffYOXq4Iw_23_49.avi.npy\n",
      "a woman is slicing some bread .\n",
      "> \u001b[0;32m/home/supunK/GIT/video_to_sequence/model.py\u001b[0m(339)\u001b[0;36mtest\u001b[0;34m()\u001b[0m\n",
      "\u001b[0;32m    338 \u001b[0;31m\u001b[0;34m\u001b[0m\u001b[0m\n",
      "\u001b[0m\u001b[0;32m--> 339 \u001b[0;31m    \u001b[0;32mfor\u001b[0m \u001b[0mvideo_feat_path\u001b[0m \u001b[0;32min\u001b[0m \u001b[0mtest_videos\u001b[0m\u001b[0;34m:\u001b[0m\u001b[0;34m\u001b[0m\u001b[0m\n",
      "\u001b[0m\u001b[0;32m    340 \u001b[0;31m        \u001b[0;32mprint\u001b[0m \u001b[0mvideo_feat_path\u001b[0m\u001b[0;34m\u001b[0m\u001b[0m\n",
      "\u001b[0m\n"
     ]
    },
    {
     "name": "stdin",
     "output_type": "stream",
     "text": [
      "ipdb>  q\n"
     ]
    },
    {
     "ename": "BdbQuit",
     "evalue": "",
     "output_type": "error",
     "traceback": [
      "\u001b[0;31m\u001b[0m",
      "\u001b[0;31mBdbQuit\u001b[0mTraceback (most recent call last)",
      "\u001b[0;32m<ipython-input-2-2c88ce9fc70a>\u001b[0m in \u001b[0;36m<module>\u001b[0;34m()\u001b[0m\n\u001b[1;32m      1\u001b[0m \u001b[0mvideo_feat_path\u001b[0m \u001b[0;34m=\u001b[0m \u001b[0;34m'/mnt/data/video_sequence_damba/data/youtube_feats'\u001b[0m\u001b[0;34m\u001b[0m\u001b[0m\n\u001b[0;32m----> 2\u001b[0;31m \u001b[0mtest\u001b[0m\u001b[0;34m(\u001b[0m\u001b[0mmodel_path\u001b[0m\u001b[0;34m=\u001b[0m\u001b[0;34m'models/model-900'\u001b[0m\u001b[0;34m,\u001b[0m \u001b[0mvideo_feat_path\u001b[0m\u001b[0;34m=\u001b[0m\u001b[0mvideo_feat_path\u001b[0m\u001b[0;34m)\u001b[0m\u001b[0;34m\u001b[0m\u001b[0m\n\u001b[0m",
      "\u001b[0;32m/home/supunK/GIT/video_to_sequence/model.pyc\u001b[0m in \u001b[0;36mtest\u001b[0;34m(model_path, video_feat_path)\u001b[0m\n\u001b[1;32m    337\u001b[0m     \u001b[0msaver\u001b[0m\u001b[0;34m.\u001b[0m\u001b[0mrestore\u001b[0m\u001b[0;34m(\u001b[0m\u001b[0msess\u001b[0m\u001b[0;34m,\u001b[0m \u001b[0mmodel_path\u001b[0m\u001b[0;34m)\u001b[0m\u001b[0;34m\u001b[0m\u001b[0m\n\u001b[1;32m    338\u001b[0m \u001b[0;34m\u001b[0m\u001b[0m\n\u001b[0;32m--> 339\u001b[0;31m     \u001b[0;32mfor\u001b[0m \u001b[0mvideo_feat_path\u001b[0m \u001b[0;32min\u001b[0m \u001b[0mtest_videos\u001b[0m\u001b[0;34m:\u001b[0m\u001b[0;34m\u001b[0m\u001b[0m\n\u001b[0m\u001b[1;32m    340\u001b[0m         \u001b[0;32mprint\u001b[0m \u001b[0mvideo_feat_path\u001b[0m\u001b[0;34m\u001b[0m\u001b[0m\n\u001b[1;32m    341\u001b[0m         \u001b[0mvideo_feat\u001b[0m \u001b[0;34m=\u001b[0m \u001b[0mnp\u001b[0m\u001b[0;34m.\u001b[0m\u001b[0mload\u001b[0m\u001b[0;34m(\u001b[0m\u001b[0mvideo_feat_path\u001b[0m\u001b[0;34m)\u001b[0m\u001b[0;34m[\u001b[0m\u001b[0mNone\u001b[0m\u001b[0;34m,\u001b[0m\u001b[0;34m.\u001b[0m\u001b[0;34m.\u001b[0m\u001b[0;34m.\u001b[0m\u001b[0;34m]\u001b[0m\u001b[0;34m\u001b[0m\u001b[0m\n",
      "\u001b[0;32m/home/supunK/GIT/video_to_sequence/model.pyc\u001b[0m in \u001b[0;36mtest\u001b[0;34m(model_path, video_feat_path)\u001b[0m\n\u001b[1;32m    337\u001b[0m     \u001b[0msaver\u001b[0m\u001b[0;34m.\u001b[0m\u001b[0mrestore\u001b[0m\u001b[0;34m(\u001b[0m\u001b[0msess\u001b[0m\u001b[0;34m,\u001b[0m \u001b[0mmodel_path\u001b[0m\u001b[0;34m)\u001b[0m\u001b[0;34m\u001b[0m\u001b[0m\n\u001b[1;32m    338\u001b[0m \u001b[0;34m\u001b[0m\u001b[0m\n\u001b[0;32m--> 339\u001b[0;31m     \u001b[0;32mfor\u001b[0m \u001b[0mvideo_feat_path\u001b[0m \u001b[0;32min\u001b[0m \u001b[0mtest_videos\u001b[0m\u001b[0;34m:\u001b[0m\u001b[0;34m\u001b[0m\u001b[0m\n\u001b[0m\u001b[1;32m    340\u001b[0m         \u001b[0;32mprint\u001b[0m \u001b[0mvideo_feat_path\u001b[0m\u001b[0;34m\u001b[0m\u001b[0m\n\u001b[1;32m    341\u001b[0m         \u001b[0mvideo_feat\u001b[0m \u001b[0;34m=\u001b[0m \u001b[0mnp\u001b[0m\u001b[0;34m.\u001b[0m\u001b[0mload\u001b[0m\u001b[0;34m(\u001b[0m\u001b[0mvideo_feat_path\u001b[0m\u001b[0;34m)\u001b[0m\u001b[0;34m[\u001b[0m\u001b[0mNone\u001b[0m\u001b[0;34m,\u001b[0m\u001b[0;34m.\u001b[0m\u001b[0;34m.\u001b[0m\u001b[0;34m.\u001b[0m\u001b[0;34m]\u001b[0m\u001b[0;34m\u001b[0m\u001b[0m\n",
      "\u001b[0;32m/home/supunK/anaconda3/envs/py2/lib/python2.7/bdb.pyc\u001b[0m in \u001b[0;36mtrace_dispatch\u001b[0;34m(self, frame, event, arg)\u001b[0m\n\u001b[1;32m     47\u001b[0m             \u001b[0;32mreturn\u001b[0m \u001b[0;31m# None\u001b[0m\u001b[0;34m\u001b[0m\u001b[0m\n\u001b[1;32m     48\u001b[0m         \u001b[0;32mif\u001b[0m \u001b[0mevent\u001b[0m \u001b[0;34m==\u001b[0m \u001b[0;34m'line'\u001b[0m\u001b[0;34m:\u001b[0m\u001b[0;34m\u001b[0m\u001b[0m\n\u001b[0;32m---> 49\u001b[0;31m             \u001b[0;32mreturn\u001b[0m \u001b[0mself\u001b[0m\u001b[0;34m.\u001b[0m\u001b[0mdispatch_line\u001b[0m\u001b[0;34m(\u001b[0m\u001b[0mframe\u001b[0m\u001b[0;34m)\u001b[0m\u001b[0;34m\u001b[0m\u001b[0m\n\u001b[0m\u001b[1;32m     50\u001b[0m         \u001b[0;32mif\u001b[0m \u001b[0mevent\u001b[0m \u001b[0;34m==\u001b[0m \u001b[0;34m'call'\u001b[0m\u001b[0;34m:\u001b[0m\u001b[0;34m\u001b[0m\u001b[0m\n\u001b[1;32m     51\u001b[0m             \u001b[0;32mreturn\u001b[0m \u001b[0mself\u001b[0m\u001b[0;34m.\u001b[0m\u001b[0mdispatch_call\u001b[0m\u001b[0;34m(\u001b[0m\u001b[0mframe\u001b[0m\u001b[0;34m,\u001b[0m \u001b[0marg\u001b[0m\u001b[0;34m)\u001b[0m\u001b[0;34m\u001b[0m\u001b[0m\n",
      "\u001b[0;32m/home/supunK/anaconda3/envs/py2/lib/python2.7/bdb.pyc\u001b[0m in \u001b[0;36mdispatch_line\u001b[0;34m(self, frame)\u001b[0m\n\u001b[1;32m     66\u001b[0m         \u001b[0;32mif\u001b[0m \u001b[0mself\u001b[0m\u001b[0;34m.\u001b[0m\u001b[0mstop_here\u001b[0m\u001b[0;34m(\u001b[0m\u001b[0mframe\u001b[0m\u001b[0;34m)\u001b[0m \u001b[0;32mor\u001b[0m \u001b[0mself\u001b[0m\u001b[0;34m.\u001b[0m\u001b[0mbreak_here\u001b[0m\u001b[0;34m(\u001b[0m\u001b[0mframe\u001b[0m\u001b[0;34m)\u001b[0m\u001b[0;34m:\u001b[0m\u001b[0;34m\u001b[0m\u001b[0m\n\u001b[1;32m     67\u001b[0m             \u001b[0mself\u001b[0m\u001b[0;34m.\u001b[0m\u001b[0muser_line\u001b[0m\u001b[0;34m(\u001b[0m\u001b[0mframe\u001b[0m\u001b[0;34m)\u001b[0m\u001b[0;34m\u001b[0m\u001b[0m\n\u001b[0;32m---> 68\u001b[0;31m             \u001b[0;32mif\u001b[0m \u001b[0mself\u001b[0m\u001b[0;34m.\u001b[0m\u001b[0mquitting\u001b[0m\u001b[0;34m:\u001b[0m \u001b[0;32mraise\u001b[0m \u001b[0mBdbQuit\u001b[0m\u001b[0;34m\u001b[0m\u001b[0m\n\u001b[0m\u001b[1;32m     69\u001b[0m         \u001b[0;32mreturn\u001b[0m \u001b[0mself\u001b[0m\u001b[0;34m.\u001b[0m\u001b[0mtrace_dispatch\u001b[0m\u001b[0;34m\u001b[0m\u001b[0m\n\u001b[1;32m     70\u001b[0m \u001b[0;34m\u001b[0m\u001b[0m\n",
      "\u001b[0;31mBdbQuit\u001b[0m: "
     ]
    }
   ],
   "source": [
    "video_feat_path = '/mnt/data/video_sequence_damba/data/youtube_feats'\n",
    "test(model_path='models/model-900', video_feat_path=video_feat_path)"
   ]
  },
  {
   "cell_type": "code",
   "execution_count": null,
   "metadata": {},
   "outputs": [],
   "source": []
  }
 ],
 "metadata": {
  "kernelspec": {
   "display_name": "Python 2",
   "language": "python",
   "name": "python2"
  },
  "language_info": {
   "codemirror_mode": {
    "name": "ipython",
    "version": 2
   },
   "file_extension": ".py",
   "mimetype": "text/x-python",
   "name": "python",
   "nbconvert_exporter": "python",
   "pygments_lexer": "ipython2",
   "version": "2.7.15"
  }
 },
 "nbformat": 4,
 "nbformat_minor": 2
}
