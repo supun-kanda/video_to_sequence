{
 "cells": [
  {
   "cell_type": "code",
   "execution_count": 1,
   "metadata": {},
   "outputs": [
    {
     "name": "stderr",
     "output_type": "stream",
     "text": [
      "Using TensorFlow backend.\n"
     ]
    }
   ],
   "source": [
    "from model import *"
   ]
  },
  {
   "cell_type": "code",
   "execution_count": null,
   "metadata": {},
   "outputs": [],
   "source": [
    "train()"
   ]
  },
  {
   "cell_type": "code",
   "execution_count": null,
   "metadata": {},
   "outputs": [
    {
     "name": "stderr",
     "output_type": "stream",
     "text": [
      "WARNING:tensorflow:<tensorflow.python.ops.rnn_cell.BasicLSTMCell object at 0x7f2cedb3d690>: Using a concatenated state is slower and will soon be deprecated.  Use state_is_tuple=True.\n",
      "WARNING:tensorflow:<tensorflow.python.ops.rnn_cell.BasicLSTMCell object at 0x7f2cedb3d510>: Using a concatenated state is slower and will soon be deprecated.  Use state_is_tuple=True.\n"
     ]
    },
    {
     "name": "stdout",
     "output_type": "stream",
     "text": [
      "/home/supunK/GIT/video_to_sequence/data/youtube_feats/zTn-nNj5Bng_8_19.avi.npy\n",
      "a girl is riding a horse .\n",
      "> \u001b[0;32m/home/supunK/GIT/video_to_sequence/model.py\u001b[0m(342)\u001b[0;36mtest\u001b[0;34m()\u001b[0m\n",
      "\u001b[0;32m    341 \u001b[0;31m\u001b[0;34m\u001b[0m\u001b[0m\n",
      "\u001b[0m\u001b[0;32m--> 342 \u001b[0;31m    \u001b[0;32mfor\u001b[0m \u001b[0mvideo_feat_path\u001b[0m \u001b[0;32min\u001b[0m \u001b[0mtest_videos\u001b[0m\u001b[0;34m:\u001b[0m\u001b[0;34m\u001b[0m\u001b[0m\n",
      "\u001b[0m\u001b[0;32m    343 \u001b[0;31m        \u001b[0;32mprint\u001b[0m \u001b[0mvideo_feat_path\u001b[0m\u001b[0;34m\u001b[0m\u001b[0m\n",
      "\u001b[0m\n"
     ]
    },
    {
     "name": "stdin",
     "output_type": "stream",
     "text": [
      "ipdb>  c\n"
     ]
    },
    {
     "name": "stdout",
     "output_type": "stream",
     "text": [
      "/home/supunK/GIT/video_to_sequence/data/youtube_feats/NoCgvH4xZHo_68_74.avi.npy\n",
      "two women are eating .\n",
      "> \u001b[0;32m/home/supunK/GIT/video_to_sequence/model.py\u001b[0m(342)\u001b[0;36mtest\u001b[0;34m()\u001b[0m\n",
      "\u001b[0;32m    341 \u001b[0;31m\u001b[0;34m\u001b[0m\u001b[0m\n",
      "\u001b[0m\u001b[0;32m--> 342 \u001b[0;31m    \u001b[0;32mfor\u001b[0m \u001b[0mvideo_feat_path\u001b[0m \u001b[0;32min\u001b[0m \u001b[0mtest_videos\u001b[0m\u001b[0;34m:\u001b[0m\u001b[0;34m\u001b[0m\u001b[0m\n",
      "\u001b[0m\u001b[0;32m    343 \u001b[0;31m        \u001b[0;32mprint\u001b[0m \u001b[0mvideo_feat_path\u001b[0m\u001b[0;34m\u001b[0m\u001b[0m\n",
      "\u001b[0m\n"
     ]
    },
    {
     "name": "stdin",
     "output_type": "stream",
     "text": [
      "ipdb>  c\n"
     ]
    },
    {
     "name": "stdout",
     "output_type": "stream",
     "text": [
      "/home/supunK/GIT/video_to_sequence/data/youtube_feats/jmoT2we_rqo_0_5.avi.npy\n",
      "a man is doing a workout .\n",
      "> \u001b[0;32m/home/supunK/GIT/video_to_sequence/model.py\u001b[0m(342)\u001b[0;36mtest\u001b[0;34m()\u001b[0m\n",
      "\u001b[0;32m    341 \u001b[0;31m\u001b[0;34m\u001b[0m\u001b[0m\n",
      "\u001b[0m\u001b[0;32m--> 342 \u001b[0;31m    \u001b[0;32mfor\u001b[0m \u001b[0mvideo_feat_path\u001b[0m \u001b[0;32min\u001b[0m \u001b[0mtest_videos\u001b[0m\u001b[0;34m:\u001b[0m\u001b[0;34m\u001b[0m\u001b[0m\n",
      "\u001b[0m\u001b[0;32m    343 \u001b[0;31m        \u001b[0;32mprint\u001b[0m \u001b[0mvideo_feat_path\u001b[0m\u001b[0;34m\u001b[0m\u001b[0m\n",
      "\u001b[0m\n"
     ]
    },
    {
     "name": "stdin",
     "output_type": "stream",
     "text": [
      "ipdb>  c\n"
     ]
    },
    {
     "name": "stdout",
     "output_type": "stream",
     "text": [
      "/home/supunK/GIT/video_to_sequence/data/youtube_feats/SzEbtbNSg04_71_93.avi.npy\n",
      "a man is slicing some garlic .\n",
      "> \u001b[0;32m/home/supunK/GIT/video_to_sequence/model.py\u001b[0m(342)\u001b[0;36mtest\u001b[0;34m()\u001b[0m\n",
      "\u001b[0;32m    341 \u001b[0;31m\u001b[0;34m\u001b[0m\u001b[0m\n",
      "\u001b[0m\u001b[0;32m--> 342 \u001b[0;31m    \u001b[0;32mfor\u001b[0m \u001b[0mvideo_feat_path\u001b[0m \u001b[0;32min\u001b[0m \u001b[0mtest_videos\u001b[0m\u001b[0;34m:\u001b[0m\u001b[0;34m\u001b[0m\u001b[0m\n",
      "\u001b[0m\u001b[0;32m    343 \u001b[0;31m        \u001b[0;32mprint\u001b[0m \u001b[0mvideo_feat_path\u001b[0m\u001b[0;34m\u001b[0m\u001b[0m\n",
      "\u001b[0m\n"
     ]
    },
    {
     "name": "stdin",
     "output_type": "stream",
     "text": [
      "ipdb>  c\n"
     ]
    },
    {
     "name": "stdout",
     "output_type": "stream",
     "text": [
      "/home/supunK/GIT/video_to_sequence/data/youtube_feats/Mutb8BHFvzk_15_20.avi.npy\n",
      "a person is cutting paper .\n",
      "> \u001b[0;32m/home/supunK/GIT/video_to_sequence/model.py\u001b[0m(342)\u001b[0;36mtest\u001b[0;34m()\u001b[0m\n",
      "\u001b[0;32m    341 \u001b[0;31m\u001b[0;34m\u001b[0m\u001b[0m\n",
      "\u001b[0m\u001b[0;32m--> 342 \u001b[0;31m    \u001b[0;32mfor\u001b[0m \u001b[0mvideo_feat_path\u001b[0m \u001b[0;32min\u001b[0m \u001b[0mtest_videos\u001b[0m\u001b[0;34m:\u001b[0m\u001b[0;34m\u001b[0m\u001b[0m\n",
      "\u001b[0m\u001b[0;32m    343 \u001b[0;31m        \u001b[0;32mprint\u001b[0m \u001b[0mvideo_feat_path\u001b[0m\u001b[0;34m\u001b[0m\u001b[0m\n",
      "\u001b[0m\n"
     ]
    },
    {
     "name": "stdin",
     "output_type": "stream",
     "text": [
      "ipdb>  c\n"
     ]
    },
    {
     "name": "stdout",
     "output_type": "stream",
     "text": [
      "/home/supunK/GIT/video_to_sequence/data/youtube_feats/hJFBXHtxKIc_310_315.avi.npy\n",
      "a man is eating .\n",
      "> \u001b[0;32m/home/supunK/GIT/video_to_sequence/model.py\u001b[0m(342)\u001b[0;36mtest\u001b[0;34m()\u001b[0m\n",
      "\u001b[0;32m    341 \u001b[0;31m\u001b[0;34m\u001b[0m\u001b[0m\n",
      "\u001b[0m\u001b[0;32m--> 342 \u001b[0;31m    \u001b[0;32mfor\u001b[0m \u001b[0mvideo_feat_path\u001b[0m \u001b[0;32min\u001b[0m \u001b[0mtest_videos\u001b[0m\u001b[0;34m:\u001b[0m\u001b[0;34m\u001b[0m\u001b[0m\n",
      "\u001b[0m\u001b[0;32m    343 \u001b[0;31m        \u001b[0;32mprint\u001b[0m \u001b[0mvideo_feat_path\u001b[0m\u001b[0;34m\u001b[0m\u001b[0m\n",
      "\u001b[0m\n"
     ]
    },
    {
     "name": "stdin",
     "output_type": "stream",
     "text": [
      "ipdb>  c\n"
     ]
    },
    {
     "name": "stdout",
     "output_type": "stream",
     "text": [
      "/home/supunK/GIT/video_to_sequence/data/youtube_feats/PqvKNqkGI9o_47_52.avi.npy\n",
      "a man is jumping on the ground .\n",
      "> \u001b[0;32m/home/supunK/GIT/video_to_sequence/model.py\u001b[0m(342)\u001b[0;36mtest\u001b[0;34m()\u001b[0m\n",
      "\u001b[0;32m    341 \u001b[0;31m\u001b[0;34m\u001b[0m\u001b[0m\n",
      "\u001b[0m\u001b[0;32m--> 342 \u001b[0;31m    \u001b[0;32mfor\u001b[0m \u001b[0mvideo_feat_path\u001b[0m \u001b[0;32min\u001b[0m \u001b[0mtest_videos\u001b[0m\u001b[0;34m:\u001b[0m\u001b[0;34m\u001b[0m\u001b[0m\n",
      "\u001b[0m\u001b[0;32m    343 \u001b[0;31m        \u001b[0;32mprint\u001b[0m \u001b[0mvideo_feat_path\u001b[0m\u001b[0;34m\u001b[0m\u001b[0m\n",
      "\u001b[0m\n"
     ]
    },
    {
     "name": "stdin",
     "output_type": "stream",
     "text": [
      "ipdb>  c\n"
     ]
    },
    {
     "name": "stdout",
     "output_type": "stream",
     "text": [
      "/home/supunK/GIT/video_to_sequence/data/youtube_feats/V6Fxclwdfxc_1_11.avi.npy\n",
      "a is eating some .\n",
      "> \u001b[0;32m/home/supunK/GIT/video_to_sequence/model.py\u001b[0m(342)\u001b[0;36mtest\u001b[0;34m()\u001b[0m\n",
      "\u001b[0;32m    341 \u001b[0;31m\u001b[0;34m\u001b[0m\u001b[0m\n",
      "\u001b[0m\u001b[0;32m--> 342 \u001b[0;31m    \u001b[0;32mfor\u001b[0m \u001b[0mvideo_feat_path\u001b[0m \u001b[0;32min\u001b[0m \u001b[0mtest_videos\u001b[0m\u001b[0;34m:\u001b[0m\u001b[0;34m\u001b[0m\u001b[0m\n",
      "\u001b[0m\u001b[0;32m    343 \u001b[0;31m        \u001b[0;32mprint\u001b[0m \u001b[0mvideo_feat_path\u001b[0m\u001b[0;34m\u001b[0m\u001b[0m\n",
      "\u001b[0m\n"
     ]
    },
    {
     "name": "stdin",
     "output_type": "stream",
     "text": [
      "ipdb>  c\n"
     ]
    },
    {
     "name": "stdout",
     "output_type": "stream",
     "text": [
      "/home/supunK/GIT/video_to_sequence/data/youtube_feats/nBFhvrAOFqY_23_29.avi.npy\n",
      "a man is a drink .\n",
      "> \u001b[0;32m/home/supunK/GIT/video_to_sequence/model.py\u001b[0m(342)\u001b[0;36mtest\u001b[0;34m()\u001b[0m\n",
      "\u001b[0;32m    341 \u001b[0;31m\u001b[0;34m\u001b[0m\u001b[0m\n",
      "\u001b[0m\u001b[0;32m--> 342 \u001b[0;31m    \u001b[0;32mfor\u001b[0m \u001b[0mvideo_feat_path\u001b[0m \u001b[0;32min\u001b[0m \u001b[0mtest_videos\u001b[0m\u001b[0;34m:\u001b[0m\u001b[0;34m\u001b[0m\u001b[0m\n",
      "\u001b[0m\u001b[0;32m    343 \u001b[0;31m        \u001b[0;32mprint\u001b[0m \u001b[0mvideo_feat_path\u001b[0m\u001b[0;34m\u001b[0m\u001b[0m\n",
      "\u001b[0m\n"
     ]
    }
   ],
   "source": [
    "video_feat_path = '/home/supunK/GIT/video_to_sequence/data/youtube_feats'\n",
    "test(model_path='models/model-900', video_feat_path=video_feat_path)"
   ]
  },
  {
   "cell_type": "code",
   "execution_count": null,
   "metadata": {},
   "outputs": [],
   "source": []
  }
 ],
 "metadata": {
  "kernelspec": {
   "display_name": "Python 2",
   "language": "python",
   "name": "python2"
  },
  "language_info": {
   "codemirror_mode": {
    "name": "ipython",
    "version": 2
   },
   "file_extension": ".py",
   "mimetype": "text/x-python",
   "name": "python",
   "nbconvert_exporter": "python",
   "pygments_lexer": "ipython2",
   "version": "2.7.15"
  }
 },
 "nbformat": 4,
 "nbformat_minor": 2
}
